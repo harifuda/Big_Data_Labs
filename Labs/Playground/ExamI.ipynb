{
 "cells": [
  {
   "cell_type": "code",
   "execution_count": 4,
   "id": "c3665818-a47f-4995-9351-9a0f9ffabf53",
   "metadata": {},
   "outputs": [],
   "source": [
    "import pyspark\n",
    "from pyspark.sql import SparkSession\n",
    "from pyspark.sql.functions import *\n",
    "ses = SparkSession.builder.master(\"local[4]\").appName(\"tuan\").getOrCreate()\n",
    "sc = ses.sparkContext\n",
    "\n",
    "ratingsFile = sc.textFile(\"ratings.csv\")\n",
    "header = ratingsFile.first()\n",
    "ratingsRDD = ratingsFile.filter(lambda x: x != header).map(lambda x: x.split(\",\"))"
   ]
  },
  {
   "cell_type": "code",
   "execution_count": 2,
   "id": "ac5efa55-1eeb-481f-84b5-8cdcd362fa10",
   "metadata": {},
   "outputs": [],
   "source": [
    "\n",
    "movieRDD = ratingsRDD.map(lambda x: (x.split(\",\")[1], x.split(\",\")[2]))\n",
    "mappedRDD = movieRDD.map(lambda x: (x,1))\n",
    "targetRDD = mappedRDD.reduceByKey(lambda x,y: x + y)"
   ]
  },
  {
   "cell_type": "code",
   "execution_count": 5,
   "id": "8813cb91-75ea-4b43-ac05-f1037a8709a2",
   "metadata": {},
   "outputs": [
    {
     "name": "stdout",
     "output_type": "stream",
     "text": [
      "+------+-------+------+---------+\n",
      "|userId|movieId|rating|timestamp|\n",
      "+------+-------+------+---------+\n",
      "|     1|      1|   4.0|964982703|\n",
      "|     1|      3|   4.0|964981247|\n",
      "|     1|      6|   4.0|964982224|\n",
      "|     1|     47|   5.0|964983815|\n",
      "|     1|     50|   5.0|964982931|\n",
      "|     1|     70|   3.0|964982400|\n",
      "|     1|    101|   5.0|964980868|\n",
      "|     1|    110|   4.0|964982176|\n",
      "|     1|    151|   5.0|964984041|\n",
      "|     1|    157|   5.0|964984100|\n",
      "|     1|    163|   5.0|964983650|\n",
      "|     1|    216|   5.0|964981208|\n",
      "|     1|    223|   3.0|964980985|\n",
      "|     1|    231|   5.0|964981179|\n",
      "|     1|    235|   4.0|964980908|\n",
      "|     1|    260|   5.0|964981680|\n",
      "|     1|    296|   3.0|964982967|\n",
      "|     1|    316|   3.0|964982310|\n",
      "|     1|    333|   5.0|964981179|\n",
      "|     1|    349|   4.0|964982563|\n",
      "+------+-------+------+---------+\n",
      "only showing top 20 rows\n",
      "\n"
     ]
    }
   ],
   "source": [
    "import pandas\n",
    "ratingsDF = ses.read.csv(\"ratings.csv\", header=True, inferSchema=True)\n",
    "ratingsDF.show()"
   ]
  },
  {
   "cell_type": "code",
   "execution_count": 6,
   "id": "6c2e6fcd-3062-4f44-95df-2cf0fb5f3043",
   "metadata": {},
   "outputs": [
    {
     "name": "stdout",
     "output_type": "stream",
     "text": [
      "+-------+-----+\n",
      "|movieId|count|\n",
      "+-------+-----+\n",
      "|   1580|  165|\n",
      "|   2366|   25|\n",
      "|   3175|   75|\n",
      "|   1088|   42|\n",
      "|  44022|   23|\n",
      "|   1591|   26|\n",
      "|   1645|   51|\n",
      "|    471|   40|\n",
      "|   1025|   25|\n",
      "|   1127|   62|\n",
      "|   2580|   39|\n",
      "|   1084|   35|\n",
      "|   1721|  140|\n",
      "|    858|  192|\n",
      "|  48780|   90|\n",
      "|   3698|   34|\n",
      "|   4161|   23|\n",
      "|   6773|   22|\n",
      "|    737|   20|\n",
      "|  69481|   34|\n",
      "+-------+-----+\n",
      "only showing top 20 rows\n",
      "\n"
     ]
    }
   ],
   "source": [
    "ratingsCountDF = ratingsDF.groupBy('movieId').count()\n",
    "filteredDF = ratingsCountDF.filter(col('count') >= 20)\n",
    "filteredDF.show()"
   ]
  },
  {
   "cell_type": "code",
   "execution_count": 134,
   "id": "dea1741b-8308-4273-b521-9c27766df691",
   "metadata": {},
   "outputs": [],
   "source": [
    "partRatingsDF = ratingsDF.select(col('movieId'), col('rating'))\n",
    "targetDF = partRatingsDF.join(filteredDF, 'movieId')\n"
   ]
  },
  {
   "cell_type": "code",
   "execution_count": 135,
   "id": "0f0c9b59-172e-4a03-a837-3cf84d8bb3ed",
   "metadata": {},
   "outputs": [
    {
     "name": "stdout",
     "output_type": "stream",
     "text": [
      "+-------+------------------+\n",
      "|movieId|    average_rating|\n",
      "+-------+------------------+\n",
      "|      1|3.9209302325581397|\n",
      "|      2|3.4318181818181817|\n",
      "|      3|3.2596153846153846|\n",
      "|      5|3.0714285714285716|\n",
      "|      6| 3.946078431372549|\n",
      "|      7| 3.185185185185185|\n",
      "|     10| 3.496212121212121|\n",
      "|     11|3.6714285714285713|\n",
      "|     16| 3.926829268292683|\n",
      "|     17|3.7761194029850746|\n",
      "|     18|               3.7|\n",
      "|     19| 2.727272727272727|\n",
      "|     21|  3.49438202247191|\n",
      "|     22|3.2222222222222223|\n",
      "|     24|             3.125|\n",
      "|     25|             3.625|\n",
      "|     29|4.0131578947368425|\n",
      "|     31|3.1842105263157894|\n",
      "|     32| 3.983050847457627|\n",
      "|     34|        3.65234375|\n",
      "+-------+------------------+\n",
      "only showing top 20 rows\n",
      "\n"
     ]
    }
   ],
   "source": [
    "avgDF = targetDF.groupBy(col('movieId')).agg(avg(col('rating')).alias('average_rating'))\n",
    "avgDF.sort(col('movieId').asc()).show()"
   ]
  },
  {
   "cell_type": "code",
   "execution_count": 17,
   "id": "d424e48c-446f-4535-9b07-b8fbae45eacf",
   "metadata": {},
   "outputs": [],
   "source": [
    "avgPandas = avgDF.toPandas()"
   ]
  },
  {
   "cell_type": "code",
   "execution_count": 20,
   "id": "b6749670-29c0-4d27-929b-eddd87ca8e91",
   "metadata": {},
   "outputs": [
    {
     "data": {
      "text/html": [
       "<div>\n",
       "<style scoped>\n",
       "    .dataframe tbody tr th:only-of-type {\n",
       "        vertical-align: middle;\n",
       "    }\n",
       "\n",
       "    .dataframe tbody tr th {\n",
       "        vertical-align: top;\n",
       "    }\n",
       "\n",
       "    .dataframe thead th {\n",
       "        text-align: right;\n",
       "    }\n",
       "</style>\n",
       "<table border=\"1\" class=\"dataframe\">\n",
       "  <thead>\n",
       "    <tr style=\"text-align: right;\">\n",
       "      <th></th>\n",
       "      <th>movieId</th>\n",
       "      <th>average_rating</th>\n",
       "    </tr>\n",
       "  </thead>\n",
       "  <tbody>\n",
       "    <tr>\n",
       "      <th>0</th>\n",
       "      <td>1580</td>\n",
       "      <td>3.487879</td>\n",
       "    </tr>\n",
       "    <tr>\n",
       "      <th>1</th>\n",
       "      <td>2366</td>\n",
       "      <td>3.640000</td>\n",
       "    </tr>\n",
       "    <tr>\n",
       "      <th>2</th>\n",
       "      <td>3175</td>\n",
       "      <td>3.580000</td>\n",
       "    </tr>\n",
       "    <tr>\n",
       "      <th>3</th>\n",
       "      <td>1088</td>\n",
       "      <td>3.369048</td>\n",
       "    </tr>\n",
       "    <tr>\n",
       "      <th>4</th>\n",
       "      <td>44022</td>\n",
       "      <td>3.217391</td>\n",
       "    </tr>\n",
       "    <tr>\n",
       "      <th>...</th>\n",
       "      <td>...</td>\n",
       "      <td>...</td>\n",
       "    </tr>\n",
       "    <tr>\n",
       "      <th>1292</th>\n",
       "      <td>3825</td>\n",
       "      <td>2.741379</td>\n",
       "    </tr>\n",
       "    <tr>\n",
       "      <th>1293</th>\n",
       "      <td>2376</td>\n",
       "      <td>3.214286</td>\n",
       "    </tr>\n",
       "    <tr>\n",
       "      <th>1294</th>\n",
       "      <td>48385</td>\n",
       "      <td>3.346154</td>\n",
       "    </tr>\n",
       "    <tr>\n",
       "      <th>1295</th>\n",
       "      <td>1476</td>\n",
       "      <td>3.538462</td>\n",
       "    </tr>\n",
       "    <tr>\n",
       "      <th>1296</th>\n",
       "      <td>3910</td>\n",
       "      <td>3.975000</td>\n",
       "    </tr>\n",
       "  </tbody>\n",
       "</table>\n",
       "<p>1297 rows × 2 columns</p>\n",
       "</div>"
      ],
      "text/plain": [
       "      movieId  average_rating\n",
       "0        1580        3.487879\n",
       "1        2366        3.640000\n",
       "2        3175        3.580000\n",
       "3        1088        3.369048\n",
       "4       44022        3.217391\n",
       "...       ...             ...\n",
       "1292     3825        2.741379\n",
       "1293     2376        3.214286\n",
       "1294    48385        3.346154\n",
       "1295     1476        3.538462\n",
       "1296     3910        3.975000\n",
       "\n",
       "[1297 rows x 2 columns]"
      ]
     },
     "execution_count": 20,
     "metadata": {},
     "output_type": "execute_result"
    }
   ],
   "source": [
    "avgPandas"
   ]
  },
  {
   "cell_type": "code",
   "execution_count": 23,
   "id": "654d161a-1b11-4712-86a5-57d7c94699fb",
   "metadata": {},
   "outputs": [
    {
     "data": {
      "text/plain": [
       "<AxesSubplot: title={'center': 'Average Ratings per Movie'}, xlabel='movieId'>"
      ]
     },
     "execution_count": 23,
     "metadata": {},
     "output_type": "execute_result"
    },
    {
     "data": {
      "image/png": "[encoded data removed]",
      "text/plain": [
       "<Figure size 640x480 with 1 Axes>"
      ]
     },
     "metadata": {},
     "output_type": "display_data"
    }
   ],
   "source": [
    "avgPandas.sort_values('average_rating').plot(x='movieId', y='average_rating', kind='bar', title='Average Ratings per Movie')"
   ]
  },
  {
   "cell_type": "code",
   "execution_count": 8,
   "id": "dd74c8c2-90e2-4ba9-a642-96c73052b0eb",
   "metadata": {},
   "outputs": [],
   "source": [
    "moviesFile = sc.textFile(\"movies.csv\")\n",
    "header = moviesFile.first()\n",
    "moviesRDD = moviesFile.filter(lambda x: x != header).map(lambda x: x.split(\",\"))\n"
   ]
  },
  {
   "cell_type": "code",
   "execution_count": 206,
   "id": "26f683cc-40fc-4e0c-856d-6152f965c373",
   "metadata": {},
   "outputs": [],
   "source": [
    "mappedMovies = moviesRDD.map(lambda x: (x[0], x[1]))"
   ]
  },
  {
   "cell_type": "code",
   "execution_count": 10,
   "id": "4063fac3-91b3-4432-9c74-66611cb0ce26",
   "metadata": {},
   "outputs": [
    {
     "name": "stdout",
     "output_type": "stream",
     "text": [
      "+-------+-------------------------------------+-------------------------------------------+\n",
      "|movieId|title                                |genres                                     |\n",
      "+-------+-------------------------------------+-------------------------------------------+\n",
      "|1      |Toy Story (1995)                     |Adventure|Animation|Children|Comedy|Fantasy|\n",
      "|2      |Jumanji (1995)                       |Adventure|Children|Fantasy                 |\n",
      "|3      |Grumpier Old Men (1995)              |Comedy|Romance                             |\n",
      "|4      |Waiting to Exhale (1995)             |Comedy|Drama|Romance                       |\n",
      "|5      |Father of the Bride Part II (1995)   |Comedy                                     |\n",
      "|6      |Heat (1995)                          |Action|Crime|Thriller                      |\n",
      "|7      |Sabrina (1995)                       |Comedy|Romance                             |\n",
      "|8      |Tom and Huck (1995)                  |Adventure|Children                         |\n",
      "|9      |Sudden Death (1995)                  |Action                                     |\n",
      "|10     |GoldenEye (1995)                     |Action|Adventure|Thriller                  |\n",
      "|11     |American President, The (1995)       |Comedy|Drama|Romance                       |\n",
      "|12     |Dracula: Dead and Loving It (1995)   |Comedy|Horror                              |\n",
      "|13     |Balto (1995)                         |Adventure|Animation|Children               |\n",
      "|14     |Nixon (1995)                         |Drama                                      |\n",
      "|15     |Cutthroat Island (1995)              |Action|Adventure|Romance                   |\n",
      "|16     |Casino (1995)                        |Crime|Drama                                |\n",
      "|17     |Sense and Sensibility (1995)         |Drama|Romance                              |\n",
      "|18     |Four Rooms (1995)                    |Comedy                                     |\n",
      "|19     |Ace Ventura: When Nature Calls (1995)|Comedy                                     |\n",
      "|20     |Money Train (1995)                   |Action|Comedy|Crime|Drama|Thriller         |\n",
      "+-------+-------------------------------------+-------------------------------------------+\n",
      "only showing top 20 rows\n",
      "\n",
      "+-------+-----+\n",
      "|movieId|count|\n",
      "+-------+-----+\n",
      "|1580   |165  |\n",
      "|2366   |25   |\n",
      "|3175   |75   |\n",
      "|1088   |42   |\n",
      "|32460  |4    |\n",
      "|44022  |23   |\n",
      "|96488  |4    |\n",
      "|1238   |9    |\n",
      "|1342   |11   |\n",
      "|1591   |26   |\n",
      "|1645   |51   |\n",
      "|4519   |9    |\n",
      "|2142   |10   |\n",
      "|471    |40   |\n",
      "|3997   |12   |\n",
      "|833    |6    |\n",
      "|3918   |9    |\n",
      "|7982   |4    |\n",
      "|1959   |15   |\n",
      "|68135  |10   |\n",
      "+-------+-----+\n",
      "only showing top 20 rows\n",
      "\n"
     ]
    }
   ],
   "source": [
    "ratingsDF = ses.read.csv(\"ratings.csv\", header=True, inferSchema=True)\n",
    "moviesDF = ses.read.csv('movies.csv', header=True, inferSchema=True)\n",
    "moviesDF.show(truncate=False)\n",
    "\n",
    "ratingsCountDF = ratingsDF.groupBy('movieId').count()\n",
    "ratingsCountDF.show(truncate=False)"
   ]
  },
  {
   "cell_type": "code",
   "execution_count": 11,
   "id": "0f2fc4f3-3b73-4722-a506-d359048539dc",
   "metadata": {},
   "outputs": [
    {
     "name": "stdout",
     "output_type": "stream",
     "text": [
      "+-------+-------------------------------------+-----+\n",
      "|movieId|title                                |count|\n",
      "+-------+-------------------------------------+-----+\n",
      "|1      |Toy Story (1995)                     |215  |\n",
      "|2      |Jumanji (1995)                       |110  |\n",
      "|3      |Grumpier Old Men (1995)              |52   |\n",
      "|4      |Waiting to Exhale (1995)             |7    |\n",
      "|5      |Father of the Bride Part II (1995)   |49   |\n",
      "|6      |Heat (1995)                          |102  |\n",
      "|7      |Sabrina (1995)                       |54   |\n",
      "|8      |Tom and Huck (1995)                  |8    |\n",
      "|9      |Sudden Death (1995)                  |16   |\n",
      "|10     |GoldenEye (1995)                     |132  |\n",
      "|11     |American President, The (1995)       |70   |\n",
      "|12     |Dracula: Dead and Loving It (1995)   |19   |\n",
      "|13     |Balto (1995)                         |8    |\n",
      "|14     |Nixon (1995)                         |18   |\n",
      "|15     |Cutthroat Island (1995)              |13   |\n",
      "|16     |Casino (1995)                        |82   |\n",
      "|17     |Sense and Sensibility (1995)         |67   |\n",
      "|18     |Four Rooms (1995)                    |20   |\n",
      "|19     |Ace Ventura: When Nature Calls (1995)|88   |\n",
      "|20     |Money Train (1995)                   |15   |\n",
      "+-------+-------------------------------------+-----+\n",
      "only showing top 20 rows\n",
      "\n",
      "+-------+-----------+-----+\n",
      "|movieId|title      |count|\n",
      "+-------+-----------+-----+\n",
      "|6      |Heat (1995)|102  |\n",
      "+-------+-----------+-----+\n",
      "\n",
      "+-------+--------------------------+-----+\n",
      "|movieId|title                     |count|\n",
      "+-------+--------------------------+-----+\n",
      "|50     |Usual Suspects, The (1995)|204  |\n",
      "+-------+--------------------------+-----+\n",
      "\n"
     ]
    }
   ],
   "source": [
    "joinedDF = moviesDF.join(ratingsCountDF, \"movieId\")\n",
    "joinedDF.select(col('movieId'), col('title'), col('count')).orderBy(col('movieId')).show(truncate=False)\n",
    "joinedDF.select('movieId', 'title', 'count').where(col('movieId') == 6).show(truncate=False)\n",
    "joinedDF.select('movieId', 'title', 'count').where(col('title') == 'Usual Suspects, The (1995)').show(truncate=False)"
   ]
  },
  {
   "cell_type": "code",
   "execution_count": 129,
   "id": "2cceec1e-126d-43a8-a66e-f9d4c3c4c244",
   "metadata": {},
   "outputs": [
    {
     "data": {
      "text/plain": [
       "PythonRDD[711] at RDD at PythonRDD.scala:53"
      ]
     },
     "execution_count": 129,
     "metadata": {},
     "output_type": "execute_result"
    }
   ],
   "source": [
    "moviesRDD.collect()\n",
    "mappedMoviesRDD = moviesRDD.map(lambda x: (x[0][0],x))\n",
    "mappedMoviesRDD.join(answerRatingsRDD)\n",
    "# responseRDD = moviesRDD.join(answerRatingsRDD)\n",
    "# responseRDD.collect()"
   ]
  },
  {
   "cell_type": "code",
   "execution_count": 121,
   "id": "83be17e5-c841-4b36-8b0d-aa9e2ebff6f2",
   "metadata": {},
   "outputs": [
    {
     "data": {
      "text/html": [
       "<div>\n",
       "<style scoped>\n",
       "    .dataframe tbody tr th:only-of-type {\n",
       "        vertical-align: middle;\n",
       "    }\n",
       "\n",
       "    .dataframe tbody tr th {\n",
       "        vertical-align: top;\n",
       "    }\n",
       "\n",
       "    .dataframe thead th {\n",
       "        text-align: right;\n",
       "    }\n",
       "</style>\n",
       "<table border=\"1\" class=\"dataframe\">\n",
       "  <thead>\n",
       "    <tr style=\"text-align: right;\">\n",
       "      <th></th>\n",
       "      <th>movieId</th>\n",
       "      <th>average_rating</th>\n",
       "    </tr>\n",
       "  </thead>\n",
       "  <tbody>\n",
       "    <tr>\n",
       "      <th>0</th>\n",
       "      <td>1580</td>\n",
       "      <td>3.487879</td>\n",
       "    </tr>\n",
       "    <tr>\n",
       "      <th>1</th>\n",
       "      <td>2366</td>\n",
       "      <td>3.640000</td>\n",
       "    </tr>\n",
       "    <tr>\n",
       "      <th>2</th>\n",
       "      <td>3175</td>\n",
       "      <td>3.580000</td>\n",
       "    </tr>\n",
       "    <tr>\n",
       "      <th>3</th>\n",
       "      <td>1088</td>\n",
       "      <td>3.369048</td>\n",
       "    </tr>\n",
       "    <tr>\n",
       "      <th>4</th>\n",
       "      <td>32460</td>\n",
       "      <td>4.250000</td>\n",
       "    </tr>\n",
       "    <tr>\n",
       "      <th>...</th>\n",
       "      <td>...</td>\n",
       "      <td>...</td>\n",
       "    </tr>\n",
       "    <tr>\n",
       "      <th>9719</th>\n",
       "      <td>5836</td>\n",
       "      <td>2.000000</td>\n",
       "    </tr>\n",
       "    <tr>\n",
       "      <th>9720</th>\n",
       "      <td>6477</td>\n",
       "      <td>3.000000</td>\n",
       "    </tr>\n",
       "    <tr>\n",
       "      <th>9721</th>\n",
       "      <td>73501</td>\n",
       "      <td>3.500000</td>\n",
       "    </tr>\n",
       "    <tr>\n",
       "      <th>9722</th>\n",
       "      <td>2965</td>\n",
       "      <td>2.000000</td>\n",
       "    </tr>\n",
       "    <tr>\n",
       "      <th>9723</th>\n",
       "      <td>26527</td>\n",
       "      <td>4.000000</td>\n",
       "    </tr>\n",
       "  </tbody>\n",
       "</table>\n",
       "<p>9724 rows × 2 columns</p>\n",
       "</div>"
      ],
      "text/plain": [
       "      movieId  average_rating\n",
       "0        1580        3.487879\n",
       "1        2366        3.640000\n",
       "2        3175        3.580000\n",
       "3        1088        3.369048\n",
       "4       32460        4.250000\n",
       "...       ...             ...\n",
       "9719     5836        2.000000\n",
       "9720     6477        3.000000\n",
       "9721    73501        3.500000\n",
       "9722     2965        2.000000\n",
       "9723    26527        4.000000\n",
       "\n",
       "[9724 rows x 2 columns]"
      ]
     },
     "execution_count": 121,
     "metadata": {},
     "output_type": "execute_result"
    }
   ],
   "source": [
    "mappedPandas"
   ]
  },
  {
   "cell_type": "code",
   "execution_count": null,
   "id": "95741249-469a-4f16-a232-6162e68ef00d",
   "metadata": {},
   "outputs": [],
   "source": []
  }
 ],
 "metadata": {
  "kernelspec": {
   "display_name": "Python 3 (ipykernel)",
   "language": "python",
   "name": "python3"
  },
  "language_info": {
   "codemirror_mode": {
    "name": "ipython",
    "version": 3
   },
   "file_extension": ".py",
   "mimetype": "text/x-python",
   "name": "python",
   "nbconvert_exporter": "python",
   "pygments_lexer": "ipython3",
   "version": "3.10.8"
  }
 },
 "nbformat": 4,
 "nbformat_minor": 5
}
