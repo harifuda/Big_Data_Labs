{
 "cells": [
  {
   "cell_type": "code",
   "execution_count": 15,
   "id": "26829b8d-3e4e-4e0e-9ff8-6bab4f0d55ea",
   "metadata": {},
   "outputs": [
    {
     "name": "stdout",
     "output_type": "stream",
     "text": [
      "1\n"
     ]
    }
   ],
   "source": [
    "from sympy import *\n",
    "w = symbols('w')\n",
    "exp = 1 / w ** w\n",
    "lim = limit(exp, w, 0)\n",
    "print(\"{}\".format(lim))"
   ]
  },
  {
   "cell_type": "code",
   "execution_count": null,
   "id": "bfd2937b-8bba-4ee4-a049-7842f9dc0ef8",
   "metadata": {},
   "outputs": [],
   "source": []
  }
 ],
 "metadata": {
  "kernelspec": {
   "display_name": "Python 3 (ipykernel)",
   "language": "python",
   "name": "python3"
  },
  "language_info": {
   "codemirror_mode": {
    "name": "ipython",
    "version": 3
   },
   "file_extension": ".py",
   "mimetype": "text/x-python",
   "name": "python",
   "nbconvert_exporter": "python",
   "pygments_lexer": "ipython3",
   "version": "3.10.8"
  }
 },
 "nbformat": 4,
 "nbformat_minor": 5
}
