{
 "cells": [
  {
   "cell_type": "code",
   "execution_count": 1,
   "id": "13ce9722-92d6-4fdf-a41c-8d14c95617cc",
   "metadata": {},
   "outputs": [],
   "source": [
    "from pyspark import *\n",
    "from pyspark.sql import SparkSession\n",
    "import pyspark.sql.functions as F \n",
    "spaco = SparkSession.builder.master(\"local[2]\").appName(\"extractor\").getOrCreate()\n"
   ]
  },
  {
   "cell_type": "code",
   "execution_count": 2,
   "id": "601d8aba-bb0f-4a32-9f4b-345a3698d85d",
   "metadata": {},
   "outputs": [],
   "source": [
    "file = spaco.read.csv(\"Discord_chat_Sat May 14 2022 00_00_00 GMT-0400 (Eastern Daylight Time)_Wed May 03 2023 00_00_00 GMT-0400 (Eastern Daylight Time).csv\", header=True)"
   ]
  },
  {
   "cell_type": "code",
   "execution_count": 24,
   "id": "bb154e11-acc9-4565-b55f-cbb6e52e49d1",
   "metadata": {},
   "outputs": [
    {
     "name": "stdout",
     "output_type": "stream",
     "text": [
      "+--------------------+--------------+--------+--------------------+-------------------+----+\n",
      "|                Date|      Username|User tag|             Content|           Mentions|link|\n",
      "+--------------------+--------------+--------+--------------------+-------------------+----+\n",
      "| 2022-05-14,19:51:14|       Hathena|   #6395|Couche Tard food ...|               null|null|\n",
      "| 2022-05-14,19:53:00| valley seeker|   #0186|Martin Scorsese a...|               null|null|\n",
      "|I will get destro...|          null|    null|                null|               null|null|\n",
      "| 2022-05-15,09:30:47|          LOLO|   #5036|Stan Lee wrote al...|               null|null|\n",
      "| 2022-05-17,20:07:13|nomorethannick|   #2460|This isn't your o...|          LOLO#5036|null|\n",
      "| 2022-05-17,20:07:19|nomorethannick|   #2460|stop stealing fro...|               null|null|\n",
      "| 2022-05-17,20:07:46|          LOLO|   #5036|Where does it say...|nomorethannick#2460|null|\n",
      "| 2022-05-17,20:07:53|          LOLO|   #5036|It's still unpopular|               null|null|\n",
      "| 2022-05-17,20:08:00|nomorethannick|   #2460|Ok well here's my...|               null|null|\n",
      "| 2022-05-17,20:08:06|nomorethannick|   #2460|furries are decen...|               null|null|\n",
      "| 2022-05-17,20:08:10|          LOLO|   #5036|               Oh no|               null|null|\n",
      "| 2022-05-17,20:08:17|          LOLO|   #5036|Imagine liking so...|               null|null|\n",
      "| 2022-05-17,20:08:18|nomorethannick|   #2460|How do you like t...|               null|null|\n",
      "| 2022-05-17,20:08:18|      Frunnkis|   #8368|That's not unpopu...|               null|null|\n",
      "| 2022-05-17,20:08:26|          LOLO|   #5036|             HAHAHAH|      Frunnkis#8368|null|\n",
      "| 2022-05-17,20:08:47|nomorethannick|   #2460|      it can be both|      Frunnkis#8368|null|\n",
      "| 2022-05-17,20:09:21|nomorethannick|   #2460|some crimes canno...|          LOLO#5036|null|\n",
      "| 2022-05-27,23:20:27|   Wubba Wubba|   #1493|Eating corn on th...|               null|null|\n",
      "| 2022-05-27,23:20:50|   Wubba Wubba|   #1493|Everytime I take ...|               null|null|\n",
      "| 2022-05-27,23:21:20|   Wubba Wubba|   #1493|Than after I'm do...|               null|null|\n",
      "+--------------------+--------------+--------+--------------------+-------------------+----+\n",
      "only showing top 20 rows\n",
      "\n"
     ]
    }
   ],
   "source": [
    "file.show()\n"
   ]
  },
  {
   "cell_type": "code",
   "execution_count": 29,
   "id": "b333e01b-d647-4c4b-b8ae-5bf904b5dfe0",
   "metadata": {},
   "outputs": [
    {
     "name": "stdout",
     "output_type": "stream",
     "text": [
      "+-------------------+-------------+--------+--------------------+--------------+----+\n",
      "|               Date|     Username|User tag|             Content|      Mentions|link|\n",
      "+-------------------+-------------+--------+--------------------+--------------+----+\n",
      "|2022-05-14,19:53:00|valley seeker|   #0186|Martin Scorsese a...|          null|null|\n",
      "|2022-05-30,08:09:02|valley seeker|   #0186|I just played sma...|          null|null|\n",
      "|2022-05-30,09:04:06|valley seeker|   #0186|I indeed lost hop...|          null|null|\n",
      "|2022-05-30,09:04:10|valley seeker|   #0186|   Whats the point?!|          null|null|\n",
      "|2022-05-30,11:11:03|valley seeker|   #0186|Not when it contr...|          null|null|\n",
      "|2022-05-30,11:11:52|valley seeker|   #0186|And no, gamer do ...|          null|null|\n",
      "|2022-05-30,11:11:59|valley seeker|   #0186|    Indeed, I do not|Le Mounir#6969|null|\n",
      "|2022-05-30,11:12:57|valley seeker|   #0186|I see them as a w...|          null|null|\n",
      "|2022-05-30,11:13:14|valley seeker|   #0186|Its literally the...|Le Mounir#6969|null|\n",
      "|2022-05-30,11:13:27|valley seeker|   #0186|Legendary item in...| Frunnkis#8368|null|\n",
      "|2022-05-30,11:14:02|valley seeker|   #0186|You know, the fat...|Le Mounir#6969|null|\n",
      "|2022-05-30,11:14:37|valley seeker|   #0186|And its still bet...|          null|null|\n",
      "|2022-05-30,11:15:03|valley seeker|   #0186|Danger is part of...|          null|null|\n",
      "|2022-05-30,11:15:08|valley seeker|   #0186|    By a wide margin|          null|null|\n",
      "|2022-05-30,11:15:39|valley seeker|   #0186|                   ?|Le Mounir#6969|null|\n",
      "|2022-05-30,11:16:21|valley seeker|   #0186|I said living a d...|          null|null|\n",
      "|2022-05-30,11:16:36|valley seeker|   #0186|What the hell is ...|          null|null|\n",
      "|2022-05-30,11:17:09|valley seeker|   #0186|If you have to kn...|          null|null|\n",
      "|2022-05-30,11:17:23|valley seeker|   #0186|              Not...|          null|null|\n",
      "|2022-05-30,11:17:34|valley seeker|   #0186|Did you ever do s...|          null|null|\n",
      "+-------------------+-------------+--------+--------------------+--------------+----+\n",
      "only showing top 20 rows\n",
      "\n"
     ]
    },
    {
     "data": {
      "text/plain": [
       "DataFrame[summary: string, Date: string, Username: string, User tag: string, Content: string, Mentions: string, link: string]"
      ]
     },
     "execution_count": 29,
     "metadata": {},
     "output_type": "execute_result"
    }
   ],
   "source": [
    "extracted_DF = file.where(F.col(\"Username\") == \"valley seeker\")\n",
    "extracted_DF.show()\n",
    "extracted_DF.withColumn(\"Date\", F.when(extracted_DF.select(\"Date\").)"
   ]
  },
  {
   "cell_type": "code",
   "execution_count": 27,
   "id": "437e24e8-a6f5-4228-9fcd-831a989698f8",
   "metadata": {},
   "outputs": [],
   "source": [
    "extracted_DF.write.options(header=True).csv(\"tony\")"
   ]
  },
  {
   "cell_type": "code",
   "execution_count": null,
   "id": "9ce07f94-6e90-443b-86ea-6e804c6dbe3c",
   "metadata": {},
   "outputs": [],
   "source": []
  }
 ],
 "metadata": {
  "kernelspec": {
   "display_name": "Python 3 (ipykernel)",
   "language": "python",
   "name": "python3"
  },
  "language_info": {
   "codemirror_mode": {
    "name": "ipython",
    "version": 3
   },
   "file_extension": ".py",
   "mimetype": "text/x-python",
   "name": "python",
   "nbconvert_exporter": "python",
   "pygments_lexer": "ipython3",
   "version": "3.10.8"
  }
 },
 "nbformat": 4,
 "nbformat_minor": 5
}
