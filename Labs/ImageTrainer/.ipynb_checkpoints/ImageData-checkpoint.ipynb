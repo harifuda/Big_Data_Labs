{
 "cells": [
  {
   "cell_type": "code",
   "execution_count": 12,
   "id": "cfe803cd-d7f6-4489-a5ec-2f8fcaeb8b58",
   "metadata": {},
   "outputs": [],
   "source": [
    "import pyspark\n",
    "from pyspark.sql import SparkSession\n",
    "from pyspark.sql import functions as F\n",
    "from PIL import Image, ImageDraw\n",
    "sps = SparkSession.builder.master(\"local[4]\").appName(\"image-training\").getOrCreate()\n",
    "scs = sps.sparkContext"
   ]
  },
  {
   "cell_type": "code",
   "execution_count": 16,
   "id": "fd6bcf48-bd47-4d5b-9d3b-9e5562d42896",
   "metadata": {},
   "outputs": [
    {
     "name": "stdout",
     "output_type": "stream",
     "text": [
      "+-----+------+\n",
      "|width|height|\n",
      "+-----+------+\n",
      "|1500 |1125  |\n",
      "+-----+------+\n",
      "\n"
     ]
    }
   ],
   "source": [
    "kenny_df = sps.read.format(\"image\").option(\"dropInvalid\", True).load(\"./sources\")\n",
    "kenny_df.select(\"image.width\", \"image.height\").show(truncate=False)"
   ]
  },
  {
   "cell_type": "code",
   "execution_count": 18,
   "id": "2a32e55f-3047-4848-be77-6b4e03cea61b",
   "metadata": {},
   "outputs": [],
   "source": [
    "image_row = 0\n",
    "spark_single_img = kenny_df.select(\"image\").collect()[image_row]\n",
    "(spark_single_img.image.origin, spark_single_img.image.mode, spark_single_img.image.nChannels)\n",
    "\n",
    "mode = 'RGBA' if (spark_single_img.image.nChannels == 4) else 'RGB' \n",
    "Image.frombytes(mode=mode, data=bytes(spark_single_img.image.data), size=[spark_single_img.image.width,spark_single_img.image.height]).show()"
   ]
  },
  {
   "cell_type": "code",
   "execution_count": null,
   "id": "5dbb65d7-e399-4750-a4d5-144abb97597c",
   "metadata": {},
   "outputs": [],
   "source": []
  }
 ],
 "metadata": {
  "kernelspec": {
   "display_name": "Python 3 (ipykernel)",
   "language": "python",
   "name": "python3"
  },
  "language_info": {
   "codemirror_mode": {
    "name": "ipython",
    "version": 3
   },
   "file_extension": ".py",
   "mimetype": "text/x-python",
   "name": "python",
   "nbconvert_exporter": "python",
   "pygments_lexer": "ipython3",
   "version": "3.10.8"
  }
 },
 "nbformat": 4,
 "nbformat_minor": 5
}
