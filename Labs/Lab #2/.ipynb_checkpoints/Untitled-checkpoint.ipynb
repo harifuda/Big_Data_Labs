{
 "cells": [
  {
   "cell_type": "code",
   "execution_count": 9,
   "id": "b9983c94-f9d0-454b-a690-c8bfbebf6c04",
   "metadata": {},
   "outputs": [
    {
     "ename": "SyntaxError",
     "evalue": "'(' was never closed (472791281.py, line 7)",
     "output_type": "error",
     "traceback": [
      "\u001b[0;36m  Cell \u001b[0;32mIn[9], line 7\u001b[0;36m\u001b[0m\n\u001b[0;31m    mapped = rdd.map(lambda e: (e, )\u001b[0m\n\u001b[0m                    ^\u001b[0m\n\u001b[0;31mSyntaxError\u001b[0m\u001b[0;31m:\u001b[0m '(' was never closed\n"
     ]
    }
   ],
   "source": [
    "import pyspark\n",
    "from pyspark.sql import SparkSession\n",
    "\n",
    "spark = SparkSession.builder.master(\"local[3]\").appName(\"spark-app\").getOrCreate()\n",
    "scon = spark.sparkContext\n",
    "rdd = scon.parallelize([1,3,5,6,7,8, 3, 4, 5, 7, 8, 5,4,3,2,3])\n",
    "\n",
    "mapped = rdd.map(lambda e: )\n",
    "\n",
    "    \n",
    "mapped.collect()"
   ]
  },
  {
   "cell_type": "code",
   "execution_count": null,
   "id": "ded2a4e1-d70e-413b-a740-adac9473ccd6",
   "metadata": {},
   "outputs": [],
   "source": []
  }
 ],
 "metadata": {
  "kernelspec": {
   "display_name": "Python 3 (ipykernel)",
   "language": "python",
   "name": "python3"
  },
  "language_info": {
   "codemirror_mode": {
    "name": "ipython",
    "version": 3
   },
   "file_extension": ".py",
   "mimetype": "text/x-python",
   "name": "python",
   "nbconvert_exporter": "python",
   "pygments_lexer": "ipython3",
   "version": "3.10.8"
  }
 },
 "nbformat": 4,
 "nbformat_minor": 5
}
