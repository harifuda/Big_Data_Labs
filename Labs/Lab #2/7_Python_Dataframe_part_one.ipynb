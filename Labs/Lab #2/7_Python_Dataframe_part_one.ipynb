{
 "cells": [
  {
   "cell_type": "markdown",
   "id": "daa57afb-20ed-4a0b-8794-482f73f6da12",
   "metadata": {},
   "source": [
    "# Managing Big Data for Connected Devices\n",
    "\n",
    "## 420-N63-NA\n",
    "\n",
    "## Kawser Wazed Nafi\n",
    " ----------------------------------------------------------------------------------------------------------------------------------\n",
    "    \n",
    "## Spark Dataframe\n",
    "\n",
    "Spark Dataframe is a A distributed collection of data grouped into named columns. A DataFrame is equivalent to a relational table in Spark SQL, and can be created using various functions in SparkSession\n",
    "\n",
    "So far we've only used RDDs in spark. RDDs holds unstructured data. Every entry in the RDD was an object and the RDD contained many objects of the same type. In most cases when we are analyzing data, we would be dealing with structured data. Data that can be represented as a table with columns and rows. \n",
    "\n",
    "That's what dataframes are for. Dataframes uses RDDs behind the scenes but allow us to deal with the data as a table. You can think of it as an excel sheet or SQL table. "
   ]
  },
  {
   "cell_type": "code",
   "execution_count": 1,
   "id": "c82d7308-2e19-459b-9917-ed38faa7cb68",
   "metadata": {},
   "outputs": [],
   "source": [
    "from pyspark.sql import SparkSession\n",
    "from pyspark.sql.functions import col, asc,desc\n",
    "ss = SparkSession.builder.master(\"local[4]\").appName(\"movielens-join\").getOrCreate();\n",
    "sc = ss.sparkContext"
   ]
  },
  {
   "cell_type": "markdown",
   "id": "8e58ac84-3b9d-47fb-b4f9-29ec3330e475",
   "metadata": {},
   "source": [
    "The Spark Session is used to create dataframes. Before we used the Spark Context to create RDDs.\n",
    "\n",
    "When we loaded the files using Spark Context into an RDD, the files were handled as a text file. Because it doesn't matter with RDDs if we have columns in the data, every line was an object in our RDD. \n",
    "\n",
    "However, with dataframes it does matter. That's why Spark API provides reading functions of different file types and formats. \n",
    "\n",
    "In our case we have csv files. We will load the ratings data into a dataframe like this. We specify `header=True` which will take the first line in the file as header in our dataframe."
   ]
  },
  {
   "cell_type": "code",
   "execution_count": 6,
   "id": "7ca2914a-1338-4b25-863a-24d5623adc29",
   "metadata": {},
   "outputs": [
    {
     "name": "stdout",
     "output_type": "stream",
     "text": [
      "+------+-------+------+---------+\n",
      "|userId|movieId|rating|timestamp|\n",
      "+------+-------+------+---------+\n",
      "|     1|      1|   4.0|964982703|\n",
      "|     1|      3|   4.0|964981247|\n",
      "|     1|      6|   4.0|964982224|\n",
      "|     1|     47|   5.0|964983815|\n",
      "|     1|     50|   5.0|964982931|\n",
      "|     1|     70|   3.0|964982400|\n",
      "|     1|    101|   5.0|964980868|\n",
      "|     1|    110|   4.0|964982176|\n",
      "|     1|    151|   5.0|964984041|\n",
      "|     1|    157|   5.0|964984100|\n",
      "|     1|    163|   5.0|964983650|\n",
      "|     1|    216|   5.0|964981208|\n",
      "|     1|    223|   3.0|964980985|\n",
      "|     1|    231|   5.0|964981179|\n",
      "|     1|    235|   4.0|964980908|\n",
      "|     1|    260|   5.0|964981680|\n",
      "|     1|    296|   3.0|964982967|\n",
      "|     1|    316|   3.0|964982310|\n",
      "|     1|    333|   5.0|964981179|\n",
      "|     1|    349|   4.0|964982563|\n",
      "+------+-------+------+---------+\n",
      "only showing top 20 rows\n",
      "\n"
     ]
    }
   ],
   "source": [
    "dfRatings = ss.read.csv(\"ratings.csv\", header=True)\n",
    "dfRatings.take(5)"
   ]
  },
  {
   "cell_type": "markdown",
   "id": "28e43cf4-fc39-483b-8904-77977f85b163",
   "metadata": {},
   "source": [
    "### Exercise 1\n",
    "\n",
    "Why the header data is true? what will happen if you make it false? Can you explain the dataframe differences for the Header true and false?"
   ]
  },
  {
   "cell_type": "code",
   "execution_count": null,
   "id": "057b12e6-03ac-4f78-a70a-7e7c51359365",
   "metadata": {},
   "outputs": [],
   "source": []
  },
  {
   "cell_type": "markdown",
   "id": "a434c610-b521-4e15-adb3-6b8e5932219d",
   "metadata": {},
   "source": [
    "### Show\n",
    "Dataframes still follow the lazy evaluation done with RDDs. Well it is using RDDs, just providing us with a better API to handle the data! \n",
    "\n",
    "To show our table we can use `show` function which will display the top 20 rows in a table format. You can modify the `n` parameter to display more rows.\n"
   ]
  },
  {
   "cell_type": "code",
   "execution_count": 7,
   "id": "d36406a1-394d-4780-a44a-34df8bca6b11",
   "metadata": {},
   "outputs": [
    {
     "name": "stdout",
     "output_type": "stream",
     "text": [
      "+------+-------+------+---------+\n",
      "|userId|movieId|rating|timestamp|\n",
      "+------+-------+------+---------+\n",
      "|     1|      1|   4.0|964982703|\n",
      "|     1|      3|   4.0|964981247|\n",
      "|     1|      6|   4.0|964982224|\n",
      "|     1|     47|   5.0|964983815|\n",
      "|     1|     50|   5.0|964982931|\n",
      "|     1|     70|   3.0|964982400|\n",
      "|     1|    101|   5.0|964980868|\n",
      "|     1|    110|   4.0|964982176|\n",
      "|     1|    151|   5.0|964984041|\n",
      "|     1|    157|   5.0|964984100|\n",
      "|     1|    163|   5.0|964983650|\n",
      "|     1|    216|   5.0|964981208|\n",
      "|     1|    223|   3.0|964980985|\n",
      "|     1|    231|   5.0|964981179|\n",
      "|     1|    235|   4.0|964980908|\n",
      "|     1|    260|   5.0|964981680|\n",
      "|     1|    296|   3.0|964982967|\n",
      "|     1|    316|   3.0|964982310|\n",
      "|     1|    333|   5.0|964981179|\n",
      "|     1|    349|   4.0|964982563|\n",
      "+------+-------+------+---------+\n",
      "only showing top 20 rows\n",
      "\n"
     ]
    }
   ],
   "source": [
    "dfRatings.show()"
   ]
  },
  {
   "cell_type": "markdown",
   "id": "744ffb95-a6ea-4d08-997d-8e15269b835e",
   "metadata": {},
   "source": [
    "Similar to RDDs, when applying a transformation to a dataframe it will return a new dataframe. \n",
    "\n",
    "However, with the dataframe API, we deal with the data closer to a SQL table than an RDD. <strong>We don't have map and reduce.</strong>  "
   ]
  },
  {
   "cell_type": "markdown",
   "id": "2d707082-ca0d-497e-bcc8-72c9070742ad",
   "metadata": {},
   "source": [
    "### Reading a Column\n",
    "Reading data from a column can be done using select function. The select function will return a new dataframe. "
   ]
  },
  {
   "cell_type": "code",
   "execution_count": 8,
   "id": "9614d877-5a10-4431-8592-48e8c30d82b2",
   "metadata": {},
   "outputs": [
    {
     "name": "stdout",
     "output_type": "stream",
     "text": [
      "+------+\n",
      "|userId|\n",
      "+------+\n",
      "|     1|\n",
      "|     1|\n",
      "|     1|\n",
      "|     1|\n",
      "|     1|\n",
      "|     1|\n",
      "|     1|\n",
      "|     1|\n",
      "|     1|\n",
      "|     1|\n",
      "|     1|\n",
      "|     1|\n",
      "|     1|\n",
      "|     1|\n",
      "|     1|\n",
      "|     1|\n",
      "|     1|\n",
      "|     1|\n",
      "|     1|\n",
      "|     1|\n",
      "+------+\n",
      "only showing top 20 rows\n",
      "\n"
     ]
    }
   ],
   "source": [
    "dfRatings.select('userId').show(n=5)"
   ]
  },
  {
   "cell_type": "markdown",
   "id": "3fa01641-b0e6-42cf-9efc-1586e3e8b447",
   "metadata": {},
   "source": [
    "We can pass multiple column values and can retrieve multiple columns together."
   ]
  },
  {
   "cell_type": "code",
   "execution_count": 9,
   "id": "7cbd2361-7b93-439e-8172-6ae8a941c1ae",
   "metadata": {},
   "outputs": [
    {
     "name": "stdout",
     "output_type": "stream",
     "text": [
      "+------+-------+\n",
      "|userId|movieId|\n",
      "+------+-------+\n",
      "|     1|      1|\n",
      "|     1|      3|\n",
      "|     1|      6|\n",
      "|     1|     47|\n",
      "|     1|     50|\n",
      "|     1|     70|\n",
      "|     1|    101|\n",
      "|     1|    110|\n",
      "|     1|    151|\n",
      "|     1|    157|\n",
      "|     1|    163|\n",
      "|     1|    216|\n",
      "|     1|    223|\n",
      "|     1|    231|\n",
      "|     1|    235|\n",
      "|     1|    260|\n",
      "|     1|    296|\n",
      "|     1|    316|\n",
      "|     1|    333|\n",
      "|     1|    349|\n",
      "+------+-------+\n",
      "only showing top 20 rows\n",
      "\n"
     ]
    }
   ],
   "source": [
    "#we can pass multiple values\n",
    "dfRatings.select('userId', 'movieId').show(n=5)"
   ]
  },
  {
   "cell_type": "markdown",
   "id": "fada4a8a-a190-4c8f-8c72-f28dd68eebd7",
   "metadata": {},
   "source": [
    "### Dataframe Column\n",
    "\n",
    "The column class allows us to reference a specific column to be used in other functions. Filtering for example.\n",
    "\n",
    "There are multiple ways to get a reference to a column\n"
   ]
  },
  {
   "cell_type": "code",
   "execution_count": 10,
   "id": "2acf9446-cd89-4cc9-a7eb-c4cab4b97f96",
   "metadata": {},
   "outputs": [
    {
     "data": {
      "text/plain": [
       "Column<'movieId'>"
      ]
     },
     "execution_count": 10,
     "metadata": {},
     "output_type": "execute_result"
    }
   ],
   "source": [
    "#Just by using the column name in the df\n",
    "dfRatings.movieId"
   ]
  },
  {
   "cell_type": "code",
   "execution_count": 11,
   "id": "1e7db537-98a5-4f87-b81f-f8377d3d0e3f",
   "metadata": {},
   "outputs": [
    {
     "data": {
      "text/plain": [
       "Column<'movieId'>"
      ]
     },
     "execution_count": 11,
     "metadata": {},
     "output_type": "execute_result"
    }
   ],
   "source": [
    "#similar to a dictionary \n",
    "dfRatings['movieId']"
   ]
  },
  {
   "cell_type": "markdown",
   "id": "bf49d71e-8c22-4af2-8621-c9c185b028c7",
   "metadata": {},
   "source": [
    "We can even use the `col` function from the `pyspark.sql.functions` that was imported in the first cell of this notebook. \n",
    "\n",
    "However, you can notice that in the below example our actual dataframe was not even used. Well it doesn't matter, because we are not using the column as a data holder. It is just an indicator of a column with the name we specify. "
   ]
  },
  {
   "cell_type": "code",
   "execution_count": 12,
   "id": "e3458929-22d4-4672-bd3e-58fc5c92ce4b",
   "metadata": {},
   "outputs": [
    {
     "data": {
      "text/plain": [
       "Column<'movieId'>"
      ]
     },
     "execution_count": 12,
     "metadata": {},
     "output_type": "execute_result"
    }
   ],
   "source": [
    "col('movieId')"
   ]
  },
  {
   "cell_type": "markdown",
   "id": "5e5ed638-b566-45ea-baaa-d3e6ff76ef5e",
   "metadata": {},
   "source": [
    "### Example 1\n",
    "\n",
    "In the `select` method, we can pass a column object."
   ]
  },
  {
   "cell_type": "code",
   "execution_count": 13,
   "id": "576f8a1c-51ad-462e-ab01-8f0425335ad3",
   "metadata": {},
   "outputs": [
    {
     "name": "stdout",
     "output_type": "stream",
     "text": [
      "+-------+\n",
      "|movieId|\n",
      "+-------+\n",
      "|      1|\n",
      "|      3|\n",
      "|      6|\n",
      "|     47|\n",
      "|     50|\n",
      "+-------+\n",
      "only showing top 5 rows\n",
      "\n"
     ]
    }
   ],
   "source": [
    "dfRatings.select(dfRatings.movieId).show(n=5)"
   ]
  },
  {
   "cell_type": "code",
   "execution_count": 14,
   "id": "9b9ca9b0-7d79-45fa-8d62-99ca6aea0fcc",
   "metadata": {},
   "outputs": [
    {
     "name": "stdout",
     "output_type": "stream",
     "text": [
      "+-------+\n",
      "|movieId|\n",
      "+-------+\n",
      "|      1|\n",
      "|      3|\n",
      "|      6|\n",
      "|     47|\n",
      "|     50|\n",
      "+-------+\n",
      "only showing top 5 rows\n",
      "\n"
     ]
    }
   ],
   "source": [
    "#or\n",
    "dfRatings.select(dfRatings['movieId']).show(n=5)"
   ]
  },
  {
   "cell_type": "code",
   "execution_count": 15,
   "id": "6345b3cb-4dc6-45dd-97be-52b45a31b109",
   "metadata": {},
   "outputs": [
    {
     "name": "stdout",
     "output_type": "stream",
     "text": [
      "+-------+\n",
      "|movieId|\n",
      "+-------+\n",
      "|      1|\n",
      "|      3|\n",
      "+-------+\n",
      "only showing top 2 rows\n",
      "\n"
     ]
    }
   ],
   "source": [
    "dfRatings.select(col('movieId')).show(n=2)"
   ]
  },
  {
   "cell_type": "markdown",
   "id": "a25803f2-9546-4eea-95d8-bd893314a3a5",
   "metadata": {},
   "source": [
    "### Usage of Column\n",
    "\n",
    "We can use columns with arithmatic or boolean expressions to specify an operation.\n",
    "\n",
    "#this will return a new column object\n",
    "\n",
    "col('movieId')+10000"
   ]
  },
  {
   "cell_type": "code",
   "execution_count": 16,
   "id": "7ab2b700-564d-41ae-9204-0fdba261f5e0",
   "metadata": {},
   "outputs": [
    {
     "name": "stdout",
     "output_type": "stream",
     "text": [
      "+-----------------+\n",
      "|(movieId + 10000)|\n",
      "+-----------------+\n",
      "|          10001.0|\n",
      "|          10003.0|\n",
      "|          10006.0|\n",
      "|          10047.0|\n",
      "|          10050.0|\n",
      "+-----------------+\n",
      "only showing top 5 rows\n",
      "\n"
     ]
    }
   ],
   "source": [
    "#notice that in the new dataframe, the name of the new column is automatically created\n",
    "dfRatings.select(col('movieId')+10000).show(n=5)"
   ]
  },
  {
   "cell_type": "code",
   "execution_count": 17,
   "id": "ad491fb0-c8f4-434f-bd10-192b68ddea7e",
   "metadata": {},
   "outputs": [
    {
     "data": {
      "text/plain": [
       "Column<'(movieId + 10000) AS MovieIdWithAddition'>"
      ]
     },
     "execution_count": 17,
     "metadata": {},
     "output_type": "execute_result"
    }
   ],
   "source": [
    "#so we can use column functions on it.\n",
    "(col('movieId')+10000).alias('MovieIdWithAddition')"
   ]
  },
  {
   "cell_type": "markdown",
   "id": "f3b11844-3d17-40d7-b027-a0afcb52698c",
   "metadata": {},
   "source": [
    "We can merge the previous two operations in One"
   ]
  },
  {
   "cell_type": "code",
   "execution_count": 18,
   "id": "e9ec3689-0e73-4570-826b-309e54e426ee",
   "metadata": {},
   "outputs": [
    {
     "name": "stdout",
     "output_type": "stream",
     "text": [
      "+-------------------+\n",
      "|MovieIdWithAddition|\n",
      "+-------------------+\n",
      "|            10001.0|\n",
      "|            10003.0|\n",
      "|            10006.0|\n",
      "|            10047.0|\n",
      "|            10050.0|\n",
      "+-------------------+\n",
      "only showing top 5 rows\n",
      "\n"
     ]
    }
   ],
   "source": [
    "#using that in the select -> MAGIC\n",
    "dfRatings.select((col('movieId')+10000).alias('MovieIdWithAddition')).show(n=5)"
   ]
  },
  {
   "cell_type": "markdown",
   "id": "dc538168-45e1-42ad-a1a0-3f3e4610ace9",
   "metadata": {},
   "source": [
    "#### What happens when we apply a boolean expression to a column?? Such as col('rating') == 3\n",
    "We can use that for filtering\n"
   ]
  },
  {
   "cell_type": "code",
   "execution_count": 19,
   "id": "e6186662-6127-41dc-b678-d83ef80a2efb",
   "metadata": {},
   "outputs": [
    {
     "name": "stdout",
     "output_type": "stream",
     "text": [
      "+------+-------+------+---------+\n",
      "|userId|movieId|rating|timestamp|\n",
      "+------+-------+------+---------+\n",
      "|     1|     70|   3.0|964982400|\n",
      "|     1|    223|   3.0|964980985|\n",
      "|     1|    296|   3.0|964982967|\n",
      "|     1|    316|   3.0|964982310|\n",
      "|     1|    423|   3.0|964982363|\n",
      "+------+-------+------+---------+\n",
      "only showing top 5 rows\n",
      "\n"
     ]
    }
   ],
   "source": [
    "dfRatings.filter(col('rating') == 3).show(n=5)"
   ]
  },
  {
   "cell_type": "markdown",
   "id": "443defdf-25b1-41f7-8e46-cdb85e220c7a",
   "metadata": {},
   "source": [
    "we can also combine conditions by adding boolean operators on the returned columns\n",
    "\n",
    "### Exercise 2\n",
    "Can you please tell me what is the filtering operation working with the following operation?"
   ]
  },
  {
   "cell_type": "code",
   "execution_count": 20,
   "id": "c27466a2-ccf1-4b65-81a1-7de280f69490",
   "metadata": {},
   "outputs": [
    {
     "name": "stdout",
     "output_type": "stream",
     "text": [
      "+------+-------+------+----------+\n",
      "|userId|movieId|rating| timestamp|\n",
      "+------+-------+------+----------+\n",
      "|   132|      1|   2.0|1157921785|\n",
      "|   153|      1|   2.0|1525548642|\n",
      "|   193|      1|   2.0|1435856890|\n",
      "|   266|      1|   2.0| 945669542|\n",
      "|   298|      1|   2.0|1447518257|\n",
      "+------+-------+------+----------+\n",
      "only showing top 5 rows\n",
      "\n"
     ]
    }
   ],
   "source": [
    "dfRatings.filter( (col('rating') == 2.0) &  ((col('rating') > 2) & (col('rating') < 4) | (col('movieId') == 1))).show(n=5)"
   ]
  },
  {
   "cell_type": "code",
   "execution_count": null,
   "id": "c6277166-872a-414a-a7e7-e95ee1e8cfb9",
   "metadata": {},
   "outputs": [],
   "source": []
  },
  {
   "cell_type": "markdown",
   "id": "2f9942b7-f7a1-4fd5-a158-ed874a172d2f",
   "metadata": {},
   "source": [
    "### GroupBy\n",
    "\n",
    "The groupBy function works similar to the SQL groupBy `GroupedData` object which we can apply aggregiate functions to."
   ]
  },
  {
   "cell_type": "code",
   "execution_count": 22,
   "id": "c714977c-5318-4cf9-a2e2-7de970bec4e4",
   "metadata": {},
   "outputs": [
    {
     "name": "stdout",
     "output_type": "stream",
     "text": [
      "+-------+-----+\n",
      "|movieId|count|\n",
      "+-------+-----+\n",
      "|    296|  307|\n",
      "|   1090|   63|\n",
      "| 115713|   28|\n",
      "|   3210|   42|\n",
      "|  88140|   32|\n",
      "|    829|    9|\n",
      "|   2088|   18|\n",
      "|   2294|   45|\n",
      "|   4821|    5|\n",
      "|  48738|   20|\n",
      "|   3959|    8|\n",
      "|  89864|   19|\n",
      "|   2136|   14|\n",
      "|    691|    3|\n",
      "|   3606|    4|\n",
      "| 121007|    1|\n",
      "|   6731|    8|\n",
      "|  27317|    6|\n",
      "|  26082|    3|\n",
      "| 100553|    2|\n",
      "+-------+-----+\n",
      "only showing top 20 rows\n",
      "\n"
     ]
    }
   ],
   "source": [
    "dfRatingsCountPerMovie = dfRatings.groupBy(dfRatings.movieId).count()\n",
    "dfRatingsCountPerMovie.show()"
   ]
  },
  {
   "cell_type": "markdown",
   "id": "93505418-4c78-4b6a-a606-23a1784d6bb1",
   "metadata": {},
   "source": [
    "We can then filter out the movies that have less than 20 ratings, means, less than 20 people have rated this movie. "
   ]
  },
  {
   "cell_type": "code",
   "execution_count": 23,
   "id": "45429f59-930d-444a-a59c-c28d7d0726b2",
   "metadata": {},
   "outputs": [
    {
     "name": "stdout",
     "output_type": "stream",
     "text": [
      "+-------+-----+\n",
      "|movieId|count|\n",
      "+-------+-----+\n",
      "|    296|  307|\n",
      "|   1090|   63|\n",
      "| 115713|   28|\n",
      "|   3210|   42|\n",
      "|  88140|   32|\n",
      "|   2294|   45|\n",
      "|  58559|  149|\n",
      "|  33004|   44|\n",
      "|  33615|   40|\n",
      "|   1372|   42|\n",
      "|   1394|   58|\n",
      "|   2393|   33|\n",
      "|   3826|   39|\n",
      "|   4975|   44|\n",
      "|    919|   92|\n",
      "|   1265|  143|\n",
      "|   2700|   76|\n",
      "|   3949|   96|\n",
      "|    926|   24|\n",
      "|      7|   54|\n",
      "+-------+-----+\n",
      "only showing top 20 rows\n",
      "\n"
     ]
    }
   ],
   "source": [
    "dfRatingsCountPerMovie.filter(col('count') > 20).show()"
   ]
  },
  {
   "cell_type": "markdown",
   "id": "1b3c48c9-c4fa-4f56-88f8-bae3378ddfa1",
   "metadata": {},
   "source": [
    "### Joining dataframes\n",
    "\n",
    "Now we want to get all the ratings of the movies that have more than 20 ratings. We can join the original dataframe with the dataframe that has the count of ratings per movie.  \n",
    "\n",
    "The `join` function is applied to a dataframe and takes the other dataframe that we want to join with and the column that we want to join based on. \n",
    "\n",
    "First we will join our original dataframe with the count of every movie. So that the original dataframe will have a new column `count` which represent for that movieId how many ratings it has in total. "
   ]
  },
  {
   "cell_type": "code",
   "execution_count": null,
   "id": "a9a2f3de-243d-4194-a38e-21992fa7a2bb",
   "metadata": {},
   "outputs": [],
   "source": []
  },
  {
   "cell_type": "code",
   "execution_count": 24,
   "id": "06b367f7-ee61-453a-982e-d4b61ac811b4",
   "metadata": {},
   "outputs": [
    {
     "name": "stdout",
     "output_type": "stream",
     "text": [
      "+-------+------+------+---------+-----+\n",
      "|movieId|userId|rating|timestamp|count|\n",
      "+-------+------+------+---------+-----+\n",
      "|      1|     1|   4.0|964982703|  215|\n",
      "|      3|     1|   4.0|964981247|   52|\n",
      "|      6|     1|   4.0|964982224|  102|\n",
      "|     47|     1|   5.0|964983815|  203|\n",
      "|     50|     1|   5.0|964982931|  204|\n",
      "|     70|     1|   3.0|964982400|   55|\n",
      "|    101|     1|   5.0|964980868|   23|\n",
      "|    110|     1|   4.0|964982176|  237|\n",
      "|    151|     1|   5.0|964984041|   44|\n",
      "|    157|     1|   5.0|964984100|   11|\n",
      "|    163|     1|   5.0|964983650|   66|\n",
      "|    216|     1|   5.0|964981208|   49|\n",
      "|    223|     1|   3.0|964980985|  104|\n",
      "|    231|     1|   5.0|964981179|  133|\n",
      "|    235|     1|   4.0|964980908|   70|\n",
      "|    260|     1|   5.0|964981680|  251|\n",
      "|    296|     1|   3.0|964982967|  307|\n",
      "|    316|     1|   3.0|964982310|  140|\n",
      "|    333|     1|   5.0|964981179|   50|\n",
      "|    349|     1|   4.0|964982563|  110|\n",
      "+-------+------+------+---------+-----+\n",
      "only showing top 20 rows\n",
      "\n"
     ]
    }
   ],
   "source": [
    "# For join, you have to define the column name which is common in between two dataframes and you have selected to perform the join operation\n",
    "dfRatingsWithCount = dfRatings.join(dfRatingsCountPerMovie, 'movieId')\n",
    "dfRatingsWithCount.show()"
   ]
  },
  {
   "cell_type": "markdown",
   "id": "0508c5c4-27bc-456e-9581-064ea429347a",
   "metadata": {},
   "source": [
    "### OrderBy\n",
    "\n",
    "Before we continue, let's sort by the movieId just to make sure everything is working as we planned."
   ]
  },
  {
   "cell_type": "code",
   "execution_count": 25,
   "id": "b1972b17-910d-4bcb-8bd9-0a6b514d033f",
   "metadata": {},
   "outputs": [
    {
     "name": "stdout",
     "output_type": "stream",
     "text": [
      "+-------+------+------+----------+-----+\n",
      "|movieId|userId|rating| timestamp|count|\n",
      "+-------+------+------+----------+-----+\n",
      "|      1|    46|   5.0| 834787906|  215|\n",
      "|      1|   103|   4.0|1431954238|  215|\n",
      "|      1|    50|   3.0|1514238116|  215|\n",
      "|      1|    45|   4.0| 951170182|  215|\n",
      "|      1|    54|   3.0| 830247330|  215|\n",
      "|      1|     7|   4.5|1106635946|  215|\n",
      "|      1|    57|   5.0| 965796031|  215|\n",
      "|      1|    17|   4.5|1305696483|  215|\n",
      "|      1|    63|   5.0|1443199669|  215|\n",
      "|      1|    19|   4.0| 965705637|  215|\n",
      "|      1|    64|   4.0|1161520134|  215|\n",
      "|      1|    27|   3.0| 962685262|  215|\n",
      "|      1|    66|   4.0|1104643957|  215|\n",
      "|      1|    32|   3.0| 856736119|  215|\n",
      "|      1|    68|   2.5|1158531426|  215|\n",
      "|      1|    40|   5.0| 832058959|  215|\n",
      "|      1|    71|   5.0| 864737933|  215|\n",
      "|      1|    44|   3.0| 869251860|  215|\n",
      "|      1|    73|   4.5|1464196374|  215|\n",
      "|      1|    78|   4.0|1252575124|  215|\n",
      "+-------+------+------+----------+-----+\n",
      "only showing top 20 rows\n",
      "\n"
     ]
    }
   ],
   "source": [
    "dfRatingsWithCount.orderBy(col('movieId')).show()"
   ]
  },
  {
   "cell_type": "markdown",
   "id": "84efdf11-8831-418b-9bb5-d6b92525c5db",
   "metadata": {},
   "source": [
    "Remember, this data is not filtered! we have all the ratings we started with from the original data but we added a column which has the count of ratings for that movie. \n",
    "\n",
    "Now let's filter the ratings to have only the ratings that are for movies with more than 20 ratings."
   ]
  },
  {
   "cell_type": "code",
   "execution_count": 26,
   "id": "2d77a503-f5e7-491f-b529-f4e16392432d",
   "metadata": {},
   "outputs": [
    {
     "name": "stdout",
     "output_type": "stream",
     "text": [
      "+-------+------+------+---------+-----+\n",
      "|movieId|userId|rating|timestamp|count|\n",
      "+-------+------+------+---------+-----+\n",
      "|      1|     1|   4.0|964982703|  215|\n",
      "|      3|     1|   4.0|964981247|   52|\n",
      "|      6|     1|   4.0|964982224|  102|\n",
      "|     47|     1|   5.0|964983815|  203|\n",
      "|     50|     1|   5.0|964982931|  204|\n",
      "|     70|     1|   3.0|964982400|   55|\n",
      "|    101|     1|   5.0|964980868|   23|\n",
      "|    110|     1|   4.0|964982176|  237|\n",
      "|    151|     1|   5.0|964984041|   44|\n",
      "|    163|     1|   5.0|964983650|   66|\n",
      "|    216|     1|   5.0|964981208|   49|\n",
      "|    223|     1|   3.0|964980985|  104|\n",
      "|    231|     1|   5.0|964981179|  133|\n",
      "|    235|     1|   4.0|964980908|   70|\n",
      "|    260|     1|   5.0|964981680|  251|\n",
      "|    296|     1|   3.0|964982967|  307|\n",
      "|    316|     1|   3.0|964982310|  140|\n",
      "|    333|     1|   5.0|964981179|   50|\n",
      "|    349|     1|   4.0|964982563|  110|\n",
      "|    356|     1|   4.0|964980962|  329|\n",
      "+-------+------+------+---------+-----+\n",
      "only showing top 20 rows\n",
      "\n"
     ]
    }
   ],
   "source": [
    "dfRatingsFiltered = dfRatingsWithCount.filter(col('count') > 20)\n",
    "dfRatingsFiltered.show()"
   ]
  },
  {
   "cell_type": "markdown",
   "id": "eab3fe64-c677-46e0-a2e3-dd91f07ff2af",
   "metadata": {},
   "source": [
    "let's orderBy the count order to find out if the filter is good."
   ]
  },
  {
   "cell_type": "markdown",
   "id": "37fa4dc7-9e9e-484a-a935-dfce58e86d28",
   "metadata": {},
   "source": [
    "### Exercise 3\n",
    "Can you spot the differences between GroupBy and OrderBy operation? What are they?"
   ]
  },
  {
   "cell_type": "code",
   "execution_count": null,
   "id": "2ba0105e-0531-45f9-9252-e117c3269e61",
   "metadata": {},
   "outputs": [],
   "source": []
  },
  {
   "cell_type": "markdown",
   "id": "4c9f2d07-fd10-41de-9b54-2c929ca987f8",
   "metadata": {},
   "source": [
    "### Exercise 4\n",
    "\n",
    "Can we define the asending or descending order with orderby or groupby? Can you give a try? Perform the operation in the next cell"
   ]
  },
  {
   "cell_type": "markdown",
   "id": "9b11731c-e4d6-4916-b12f-20dc72186f4e",
   "metadata": {},
   "source": [
    "### Agg() function\n",
    "\n",
    "In the `agg` function, we can pass a dictionary. For eache element in the dictionary we specify the column name as key and the aggregation function as value. \n",
    "\n",
    "We can also just find the minimum of the count column. We can use the `agg` function. This is usually used with groupBy to specify how do we want to aggregiate the grouped data. But when used on a dataframe ungrouped, then it will treat the full dataframe as one group!\n",
    "\n"
   ]
  },
  {
   "cell_type": "code",
   "execution_count": 27,
   "id": "04c621e7-b96b-4ee4-8eec-3ad50ea021eb",
   "metadata": {},
   "outputs": [
    {
     "name": "stdout",
     "output_type": "stream",
     "text": [
      "+----------+\n",
      "|min(count)|\n",
      "+----------+\n",
      "|        21|\n",
      "+----------+\n",
      "\n"
     ]
    }
   ],
   "source": [
    "dfRatingsFiltered.agg({'count': 'min'}).show()"
   ]
  },
  {
   "cell_type": "code",
   "execution_count": null,
   "id": "581ef549-e672-4aa7-9a0f-a8fb4a123f46",
   "metadata": {},
   "outputs": [],
   "source": [
    "### Sum, Max, Min, Avg\n",
    "\n",
    "We can also use functions from the `pyspark.sql.functions` and apply them to columns. "
   ]
  },
  {
   "cell_type": "code",
   "execution_count": 28,
   "id": "16931ea1-4efb-46b3-9b93-3c3ecf810f13",
   "metadata": {},
   "outputs": [
    {
     "name": "stdout",
     "output_type": "stream",
     "text": [
      "+----------+----------+-----------------+-----------+-----------+----------------+\n",
      "|max(count)|min(count)|       avg(count)|min(rating)|max(rating)|     avg(rating)|\n",
      "+----------+----------+-----------------+-----------+-----------+----------------+\n",
      "|       329|        21|84.38338984067929|        0.5|        5.0|3.62677398061748|\n",
      "+----------+----------+-----------------+-----------+-----------+----------------+\n",
      "\n"
     ]
    }
   ],
   "source": [
    "from pyspark.sql.functions import sum, max, min, avg\n",
    "\n",
    "#we can apply multiple aggregation and each one will become a new column\n",
    "dfRatingsFiltered.agg(max(col('count')), min(col('count')), \n",
    "                      avg(col('count')), min(col('rating')), \n",
    "                      max(col('rating')), avg(col('rating'))).show()"
   ]
  },
  {
   "cell_type": "markdown",
   "id": "b7d7a069-bfc2-41d7-b5c1-5af92245b815",
   "metadata": {},
   "source": [
    "### GroupBy Aggregiate\n",
    "\n",
    "We want to find the average rating per movie of the filtered ratings we have now. We can groupBy the 'movieId' column and aggregiate to get the average of the rating. \n",
    "\n",
    "This is obviously a lot easier than how we did it with RDDs. \n",
    "\n",
    "Note how I called alias on the return of the `avg(col('rating'))` because the `avg` function will return a column. "
   ]
  },
  {
   "cell_type": "code",
   "execution_count": 29,
   "id": "b8da17ad-e51d-4829-b9f2-37bcb23383ca",
   "metadata": {},
   "outputs": [
    {
     "name": "stdout",
     "output_type": "stream",
     "text": [
      "+-------+------------------+\n",
      "|movieId|         avgRating|\n",
      "+-------+------------------+\n",
      "|    296| 4.197068403908795|\n",
      "|   1090| 3.984126984126984|\n",
      "| 115713|3.9107142857142856|\n",
      "|   3210|3.4761904761904763|\n",
      "|  88140|          3.546875|\n",
      "|   2294|3.2444444444444445|\n",
      "|  58559| 4.238255033557047|\n",
      "|  33004|3.4204545454545454|\n",
      "|  33615|             3.375|\n",
      "|   1372|3.3452380952380953|\n",
      "|   1394|3.9913793103448274|\n",
      "|   2393|3.1515151515151514|\n",
      "|   3826|2.2948717948717947|\n",
      "|   4975|3.4204545454545454|\n",
      "|    919| 3.880434782608696|\n",
      "|   1265| 3.944055944055944|\n",
      "|   2700| 3.861842105263158|\n",
      "|   3949|          3.921875|\n",
      "|    926| 4.229166666666667|\n",
      "|      7| 3.185185185185185|\n",
      "+-------+------------------+\n",
      "only showing top 20 rows\n",
      "\n"
     ]
    }
   ],
   "source": [
    "dfAverageMovieRating = dfRatingsFiltered.groupBy(col('movieId')).agg(avg(col('rating')).alias('avgRating'))\n",
    "dfAverageMovieRating.show()"
   ]
  },
  {
   "cell_type": "markdown",
   "id": "22fcd5ad-fd90-430b-9a69-ad87989018b7",
   "metadata": {},
   "source": [
    "We can sort by the average. This time we want it desc order! we can call the `desc` function on the column. Which will specify that this column will be in desc order for the orderBy."
   ]
  },
  {
   "cell_type": "code",
   "execution_count": 30,
   "id": "2c8c0947-d5f7-4fdb-b0d8-0c77816bd5e3",
   "metadata": {},
   "outputs": [
    {
     "name": "stdout",
     "output_type": "stream",
     "text": [
      "+-------+-----------------+\n",
      "|movieId|        avgRating|\n",
      "+-------+-----------------+\n",
      "|    318|4.429022082018927|\n",
      "|    922|4.333333333333333|\n",
      "|    898|4.310344827586207|\n",
      "|    475|              4.3|\n",
      "|   1204|              4.3|\n",
      "|    246|4.293103448275862|\n",
      "|    858|        4.2890625|\n",
      "|   1235|4.288461538461538|\n",
      "| 168252|             4.28|\n",
      "|   2959|4.272935779816514|\n",
      "|   1276|4.271929824561403|\n",
      "|    750|4.268041237113402|\n",
      "|    904|4.261904761904762|\n",
      "|   1221| 4.25968992248062|\n",
      "|  48516|4.252336448598131|\n",
      "|   1213|             4.25|\n",
      "|   1267|             4.25|\n",
      "|    912|             4.24|\n",
      "|  58559|4.238255033557047|\n",
      "|     50|4.237745098039215|\n",
      "+-------+-----------------+\n",
      "only showing top 20 rows\n",
      "\n"
     ]
    }
   ],
   "source": [
    "dfAverageMovieRating.orderBy(col('avgRating').desc()).show()"
   ]
  },
  {
   "cell_type": "markdown",
   "id": "f9e44b03-3fa1-4ebf-a742-2968a56c68eb",
   "metadata": {},
   "source": [
    "### Finding the name of the movies!\n",
    "\n",
    "Let's load the movies data into a dataframe and join the movies information with the average rating data. That's simply a join between two dataframes using the movieId column for joining. "
   ]
  },
  {
   "cell_type": "code",
   "execution_count": 33,
   "id": "42b098ef-d802-4caa-981e-9a128ef7c662",
   "metadata": {},
   "outputs": [
    {
     "name": "stdout",
     "output_type": "stream",
     "text": [
      "+-------+--------------------+------------+\n",
      "|movieId|               title|      genres|\n",
      "+-------+--------------------+------------+\n",
      "|   1732|Big Lebowski, The...|Comedy|Crime|\n",
      "+-------+--------------------+------------+\n",
      "\n",
      "+-------+------------------+--------------------+--------------------+\n",
      "|movieId|         avgRating|               title|              genres|\n",
      "+-------+------------------+--------------------+--------------------+\n",
      "|    296| 4.197068403908795| Pulp Fiction (1994)|Comedy|Crime|Dram...|\n",
      "|   1090| 3.984126984126984|      Platoon (1986)|           Drama|War|\n",
      "| 115713|3.9107142857142856|   Ex Machina (2015)|Drama|Sci-Fi|Thri...|\n",
      "|   3210|3.4761904761904763|Fast Times at Rid...|Comedy|Drama|Romance|\n",
      "+-------+------------------+--------------------+--------------------+\n",
      "only showing top 4 rows\n",
      "\n"
     ]
    }
   ],
   "source": [
    "dfMovies = ss.read.csv(\"movies.csv\",header=True)\n",
    "dfMovies.filter(col('movieId') == 1732).show()\n",
    "dfMoviesWithAverageRating = dfAverageMovieRating.join(dfMovies, 'movieId')\n",
    "dfMoviesWithAverageRating.show(n=4)"
   ]
  },
  {
   "cell_type": "code",
   "execution_count": 34,
   "id": "e7df7eb4-5367-471d-ac5f-434a49942851",
   "metadata": {},
   "outputs": [
    {
     "name": "stdout",
     "output_type": "stream",
     "text": [
      "+-------+-----------------+--------------------+--------------------+\n",
      "|movieId|        avgRating|               title|              genres|\n",
      "+-------+-----------------+--------------------+--------------------+\n",
      "|    318|4.429022082018927|Shawshank Redempt...|         Crime|Drama|\n",
      "|    922|4.333333333333333|Sunset Blvd. (a.k...|Drama|Film-Noir|R...|\n",
      "|    898|4.310344827586207|Philadelphia Stor...|Comedy|Drama|Romance|\n",
      "|    475|              4.3|In the Name of th...|               Drama|\n",
      "|   1204|              4.3|Lawrence of Arabi...| Adventure|Drama|War|\n",
      "|    246|4.293103448275862|  Hoop Dreams (1994)|         Documentary|\n",
      "|    858|        4.2890625|Godfather, The (1...|         Crime|Drama|\n",
      "|   1235|4.288461538461538|Harold and Maude ...|Comedy|Drama|Romance|\n",
      "| 168252|             4.28|        Logan (2017)|       Action|Sci-Fi|\n",
      "|   2959|4.272935779816514|   Fight Club (1999)|Action|Crime|Dram...|\n",
      "|   1276|4.271929824561403|Cool Hand Luke (1...|               Drama|\n",
      "|    750|4.268041237113402|Dr. Strangelove o...|          Comedy|War|\n",
      "|    904|4.261904761904762|  Rear Window (1954)|    Mystery|Thriller|\n",
      "|   1221| 4.25968992248062|Godfather: Part I...|         Crime|Drama|\n",
      "|  48516|4.252336448598131|Departed, The (2006)|Crime|Drama|Thriller|\n",
      "|   1213|             4.25|   Goodfellas (1990)|         Crime|Drama|\n",
      "|   1267|             4.25|Manchurian Candid...|  Crime|Thriller|War|\n",
      "|    912|             4.24|   Casablanca (1942)|       Drama|Romance|\n",
      "|  58559|4.238255033557047|Dark Knight, The ...|Action|Crime|Dram...|\n",
      "|     50|4.237745098039215|Usual Suspects, T...|Crime|Mystery|Thr...|\n",
      "+-------+-----------------+--------------------+--------------------+\n",
      "only showing top 20 rows\n",
      "\n"
     ]
    }
   ],
   "source": [
    "## orderby avgRating\n",
    "\n",
    "dfMoviesWithAverageRating.orderBy(col('avgRating').desc()).show()"
   ]
  },
  {
   "cell_type": "markdown",
   "id": "cfc6322e-bc53-4422-9300-3a6695601013",
   "metadata": {},
   "source": [
    "### Exercise 5\n",
    "\n",
    "Can we find the number of ratings per movie with the given example result?  Please perform the logical operation from what you have learned so far."
   ]
  },
  {
   "cell_type": "code",
   "execution_count": null,
   "id": "9aded13c-aebb-4bd6-9a58-bb42cd0d399f",
   "metadata": {},
   "outputs": [],
   "source": []
  },
  {
   "cell_type": "markdown",
   "id": "15b05f75-375d-4ee6-b1e1-c29aee3a5695",
   "metadata": {},
   "source": [
    "### Exercise 6\n",
    "Get to a result similar to the table above but with another column that indicates the total number of ratings each movie has. \n"
   ]
  },
  {
   "cell_type": "code",
   "execution_count": null,
   "id": "5c649c10-cb3f-4429-8997-8912a6cab820",
   "metadata": {},
   "outputs": [],
   "source": []
  },
  {
   "cell_type": "markdown",
   "id": "4244e7a2-9b89-4de4-a13a-0621dbc28e28",
   "metadata": {},
   "source": [
    "### Exercise 7\n",
    "\n",
    "In the '6_add_rdd_operation' notebook you were asked to propose 3 things you want to find from the data that uses at least 3 of the files you have. \n",
    "\n",
    "Repeat that analysis using dataframes!"
   ]
  },
  {
   "cell_type": "code",
   "execution_count": null,
   "id": "33d6bcc8-83cb-4975-bdcc-9d3cd2714d3e",
   "metadata": {},
   "outputs": [],
   "source": []
  }
 ],
 "metadata": {
  "kernelspec": {
   "display_name": "Python 3 (ipykernel)",
   "language": "python",
   "name": "python3"
  },
  "language_info": {
   "codemirror_mode": {
    "name": "ipython",
    "version": 3
   },
   "file_extension": ".py",
   "mimetype": "text/x-python",
   "name": "python",
   "nbconvert_exporter": "python",
   "pygments_lexer": "ipython3",
   "version": "3.10.8"
  }
 },
 "nbformat": 4,
 "nbformat_minor": 5
}
