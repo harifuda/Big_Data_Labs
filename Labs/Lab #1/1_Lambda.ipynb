{
 "cells": [
  {
   "cell_type": "markdown",
   "id": "258ec0f8-c635-4818-a9d6-8df05c610562",
   "metadata": {},
   "source": [
    "<h3>Lambda Function</h3>\n",
    "Lambda is a keyword in Python used to define functions, especially as an anonymous function. A lambda function can take any number of arguments, but can only have one expression. \n",
    "\n",
    "<h3>Syntax</h3>\n",
    "lambda arguments: expression\n",
    "\n",
    "here, arguments are the parameters you are going to pass in the function and expression is the equation or the calculation. The expression is executed and the result is returned."
   ]
  },
  {
   "cell_type": "markdown",
   "id": "219a6630-30d0-4008-b5f8-14328f9cf3b9",
   "metadata": {},
   "source": [
    "<h3>Example 1</h3>\n",
    "\n",
    "Add 10 to argument a, and return the result:"
   ]
  },
  {
   "cell_type": "code",
   "execution_count": null,
   "id": "b660d97d-ddc0-4268-8a19-9c8fe4f35f10",
   "metadata": {},
   "outputs": [
    {
     "name": "stdout",
     "output_type": "stream",
     "text": [
      "15\n"
     ]
    }
   ],
   "source": [
    "x = lambda a: a + 10\n",
    "print(x(5))"
   ]
  },
  {
   "cell_type": "markdown",
   "id": "ca0e6c28-9bfd-45d0-92e2-1ef47a32658f",
   "metadata": {},
   "source": [
    "Here, a was the argument. x is working as an instance of the lambda funciton."
   ]
  },
  {
   "cell_type": "markdown",
   "id": "c6815b21-517e-4ced-86e7-39d5ba794d04",
   "metadata": {},
   "source": [
    "<h3>Example 2</h3>\n",
    "\n",
    "Multiply argument a with argument b and return the result:\n"
   ]
  },
  {
   "cell_type": "code",
   "execution_count": 2,
   "id": "de4fb80e-82af-443d-87ba-1c391205e895",
   "metadata": {},
   "outputs": [
    {
     "name": "stdout",
     "output_type": "stream",
     "text": [
      "15\n"
     ]
    }
   ],
   "source": [
    "x = lambda a, b : a * b\n",
    "print(x(5, 3))"
   ]
  },
  {
   "cell_type": "markdown",
   "id": "3fa387a5-cf30-4e07-a143-2a5ab68edc27",
   "metadata": {},
   "source": [
    "<h3>Example 3</h3>\n",
    "We can perform a single line decision structure/ calculation with Lambda function in Python:\n"
   ]
  },
  {
   "cell_type": "code",
   "execution_count": 3,
   "id": "5d67fdaa-db31-4605-baad-d619084cd3df",
   "metadata": {},
   "outputs": [
    {
     "name": "stdout",
     "output_type": "stream",
     "text": [
      "6\n"
     ]
    }
   ],
   "source": [
    "x = lambda a, b: a if a > b else b\n",
    "print(x(5, 6))"
   ]
  },
  {
   "cell_type": "markdown",
   "id": "384c171a-2b19-44dc-86b5-c5b3c8919430",
   "metadata": {},
   "source": [
    "\n",
    "<h3>Example 4</h3>\n",
    "\n",
    "Lambda function in Python could be passed as a function in another function. "
   ]
  },
  {
   "cell_type": "code",
   "execution_count": 4,
   "id": "7d76ff36-a6d4-4863-81ee-c999e6b6f26f",
   "metadata": {},
   "outputs": [
    {
     "name": "stdout",
     "output_type": "stream",
     "text": [
      "33\n"
     ]
    }
   ],
   "source": [
    "def myfunc(n):\n",
    "  return lambda a : a * n\n",
    "\n",
    "mytripler = myfunc(3)\n",
    "\n",
    "print(mytripler(11))"
   ]
  },
  {
   "cell_type": "code",
   "execution_count": 5,
   "id": "aebe3300-e529-4478-8f73-d1466a822e99",
   "metadata": {},
   "outputs": [
    {
     "name": "stdout",
     "output_type": "stream",
     "text": [
      "22\n",
      "33\n"
     ]
    }
   ],
   "source": [
    "def myfunc(n):\n",
    "  return lambda a : a * n\n",
    "\n",
    "mydoubler = myfunc(2)\n",
    "mytripler = myfunc(3)\n",
    "\n",
    "print(mydoubler(11))\n",
    "print(mytripler(11))"
   ]
  },
  {
   "cell_type": "markdown",
   "id": "e4d9cb60-c21c-49be-b807-b249d6dc4bca",
   "metadata": {},
   "source": [
    "\n",
    "<h3>Example 5</h3>\n",
    "Lambdas are very useful when you are passing a function to another function. Especially if you are not going to use this function again.\n"
   ]
  },
  {
   "cell_type": "code",
   "execution_count": 7,
   "id": "cfa97499-73d0-4e45-ab60-37667bf5abd5",
   "metadata": {},
   "outputs": [
    {
     "name": "stdout",
     "output_type": "stream",
     "text": [
      "[{'Name': 'Alan Turing', 'age': 25, 'salary': 10000}, {'Name': 'John Hopkins', 'age': 18, 'salary': 1000}, {'Name': 'Mikhail Tal', 'age': 40, 'salary': 15000}, {'Name': 'Sharon Lin', 'age': 30, 'salary': 8000}]\n",
      "\n"
     ]
    }
   ],
   "source": [
    "# sorting using custom key, we also call this dict in python\n",
    "employees = [\n",
    "{'Name': 'Alan Turing', 'age': 25, 'salary': 10000},\n",
    "{'Name': 'Sharon Lin', 'age': 30, 'salary': 8000},\n",
    "{'Name': 'John Hopkins', 'age': 18, 'salary': 1000},\n",
    "{'Name': 'Mikhail Tal', 'age': 40, 'salary': 15000},\n",
    "]\n",
    "# sort by name (Ascending order)\n",
    "employees.sort(key=lambda x: x.get('Name')) # Retriving the key and then \n",
    "print(employees, end='\\n\\n')"
   ]
  },
  {
   "cell_type": "markdown",
   "id": "a6951870-c8af-4f9d-9e20-04588304bb87",
   "metadata": {},
   "source": [
    "<h3>Exercise 1</h3>\n",
    "A lambda that takes 2 arguments and return the division of them"
   ]
  },
  {
   "cell_type": "code",
   "execution_count": 1,
   "id": "fc35cc4c-9f3a-4e75-ba71-f4360be3bc78",
   "metadata": {},
   "outputs": [
    {
     "name": "stdout",
     "output_type": "stream",
     "text": [
      "3.0\n"
     ]
    }
   ],
   "source": [
    "div = lambda u, v: u / v\n",
    "print(div(15,5))"
   ]
  },
  {
   "cell_type": "markdown",
   "id": "20c9efde-904b-4bf9-8f14-4a196d2c5942",
   "metadata": {},
   "source": [
    "<h3>Exercise 2</h3>\n",
    "lambda that takes 1 argument and returns it"
   ]
  },
  {
   "cell_type": "code",
   "execution_count": 2,
   "id": "355ef00e-0c80-4671-9482-23f49bfe2879",
   "metadata": {},
   "outputs": [
    {
     "name": "stdout",
     "output_type": "stream",
     "text": [
      "BOO\n"
     ]
    }
   ],
   "source": [
    "ld = lambda x: x\n",
    "print(ld(\"BOO\"))"
   ]
  },
  {
   "cell_type": "markdown",
   "id": "13c470d0-9b04-4bcb-b10b-300f6876c148",
   "metadata": {},
   "source": [
    "<h3>Exercise 3</h3>\n",
    "A lambda that takes 1 argument as a string and replaces any , with ; and returns it"
   ]
  },
  {
   "cell_type": "code",
   "execution_count": 3,
   "id": "68280c71-76e0-429a-b35d-f02ff682cd08",
   "metadata": {},
   "outputs": [
    {
     "name": "stdout",
     "output_type": "stream",
     "text": [
      "Meet me at gate 16Y; thanks.\n"
     ]
    }
   ],
   "source": [
    "sargs = lambda s: s.replace(',',';')\n",
    "message = \"Meet me at gate 16Y, thanks.\"\n",
    "print(sargs(message))"
   ]
  },
  {
   "cell_type": "markdown",
   "id": "69291b7c-4694-48df-803c-d678df3b8854",
   "metadata": {},
   "source": [
    "<h3>Exercise 4</h3>\n",
    "A lambda that takes an array of input and returns the number of elements in the array"
   ]
  },
  {
   "cell_type": "code",
   "execution_count": 4,
   "id": "cc877076-52cd-4d34-88fd-d9e76e126693",
   "metadata": {},
   "outputs": [
    {
     "name": "stdout",
     "output_type": "stream",
     "text": [
      "3\n"
     ]
    }
   ],
   "source": [
    "counter = lambda x: len(x)\n",
    "\n",
    "print(counter([1,2,3]))"
   ]
  },
  {
   "cell_type": "markdown",
   "id": "38a669fc-d061-47aa-850b-c66ed59ad720",
   "metadata": {},
   "source": [
    "<h3>Exercise 5</h3>\n",
    "A lambda that takes an array of input and returns the number of elements in the array"
   ]
  },
  {
   "cell_type": "code",
   "execution_count": null,
   "id": "b4aeb4ab-f904-423c-bd3e-5060adf02197",
   "metadata": {},
   "outputs": [],
   "source": []
  },
  {
   "cell_type": "markdown",
   "id": "524dbe47-64fb-40d3-a470-a47be4726540",
   "metadata": {},
   "source": [
    "<h3>Exercise 6</h3>\n",
    "A lambda that takes 1 argument number and returns true if the number is even.\n"
   ]
  },
  {
   "cell_type": "code",
   "execution_count": 3,
   "id": "78ef89d4-13c3-48b9-9a25-15c15d83557b",
   "metadata": {},
   "outputs": [
    {
     "name": "stdout",
     "output_type": "stream",
     "text": [
      "True\n",
      "False\n"
     ]
    }
   ],
   "source": [
    "isEven = lambda x: True if x % 2 == 0 else False\n",
    "print(isEven(14))\n",
    "print(isEven(15))"
   ]
  },
  {
   "cell_type": "markdown",
   "id": "4e13ed8c-006b-47fe-a71a-da986d70d6cb",
   "metadata": {},
   "source": [
    "<h3>Exercise 7</h3>\n",
    "A lambda that takes a tuple of size 3 as an argument and returns a tuple with two values, the first element in the argument value and 1\n",
    "\n",
    "e.g. we can consider the following input as tuple (1,2.5,3.6)"
   ]
  },
  {
   "cell_type": "code",
   "execution_count": 2,
   "id": "b3b0adc9-d144-42f7-8e8d-bf817f4c8dad",
   "metadata": {},
   "outputs": [
    {
     "name": "stdout",
     "output_type": "stream",
     "text": [
      "(3.6, 1)\n"
     ]
    }
   ],
   "source": [
    "t = (1, 2.5, 3.6)\n",
    "truncator = lambda i: (i[2], 1)\n",
    "\n",
    "print(truncator(t))"
   ]
  },
  {
   "cell_type": "code",
   "execution_count": null,
   "id": "b4c809c1-17f8-4895-846f-34148600e185",
   "metadata": {},
   "outputs": [],
   "source": []
  }
 ],
 "metadata": {
  "kernelspec": {
   "display_name": "Python 3 (ipykernel)",
   "language": "python",
   "name": "python3"
  },
  "language_info": {
   "codemirror_mode": {
    "name": "ipython",
    "version": 3
   },
   "file_extension": ".py",
   "mimetype": "text/x-python",
   "name": "python",
   "nbconvert_exporter": "python",
   "pygments_lexer": "ipython3",
   "version": "3.10.8"
  }
 },
 "nbformat": 4,
 "nbformat_minor": 5
}
